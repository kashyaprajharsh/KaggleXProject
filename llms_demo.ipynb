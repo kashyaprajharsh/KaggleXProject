{
  "cells": [
    {
      "cell_type": "code",
      "execution_count": 1,
      "metadata": {
        "id": "QY3d0k2oOwPJ"
      },
      "outputs": [],
      "source": [
        "!pip install langchain -q\n",
        "!pip install pypdf2 -q\n",
        "!pip install huggingface_hub -q\n",
        "!pip install sentence_transformers -q\n",
        "!pip install google-cloud-aiplatform  google-api-python-client vertexai transformers chromadb google-auth-oauthlib -q\n",
        "!pip install pypdf -q"
      ]
    },
    {
      "cell_type": "code",
      "execution_count": 10,
      "metadata": {
        "colab": {
          "base_uri": "https://localhost:8080/"
        },
        "id": "VzxOzFO5P3pp",
        "outputId": "1d4c0952-0cc4-4c99-afa6-83fa6505fb8e"
      },
      "outputs": [
        {
          "output_type": "stream",
          "name": "stdout",
          "text": [
            "Drive already mounted at /content/drive; to attempt to forcibly remount, call drive.mount(\"/content/drive\", force_remount=True).\n"
          ]
        }
      ],
      "source": [
        "from google.colab import drive\n",
        "drive.mount('/content/drive')"
      ]
    },
    {
      "cell_type": "code",
      "execution_count": 11,
      "metadata": {
        "id": "SVxp9jOIQXdD"
      },
      "outputs": [],
      "source": [
        "import os\n",
        "pdf_folder = '/content/drive/My Drive/Earning_reports/Concalls/ADANIENT'\n",
        "os.chdir(pdf_folder)"
      ]
    },
    {
      "cell_type": "code",
      "execution_count": 12,
      "metadata": {
        "colab": {
          "base_uri": "https://localhost:8080/"
        },
        "id": "tSdxhWPzQeUx",
        "outputId": "c89417af-fc69-476f-e245-2ee5d1ac7794"
      },
      "outputs": [
        {
          "output_type": "execute_result",
          "data": {
            "text/plain": [
              "['Adani Enterprises_aug23.pdf',\n",
              " 'Adani Enterprises_may23.pdf',\n",
              " 'Adani Enterprises_Feb23.pdf',\n",
              " 'Adani Enterprises_nov22.pdf',\n",
              " 'Adani Enterprises_aug22.pdf',\n",
              " 'Adani Enterprises_nov21.pdf',\n",
              " 'Adani Enterprises_aug21.pdf',\n",
              " 'Adani Enterprises_mar21.pdf',\n",
              " 'Adani Enterprises_oct16.pdf',\n",
              " 'Adani Enterprises_aug16.pdf',\n",
              " 'Adani Enterprises_jan16.pdf',\n",
              " '21merged.pdf',\n",
              " '23merged.pdf',\n",
              " 'key.json',\n",
              " 'key (1).json',\n",
              " 'vector_db']"
            ]
          },
          "metadata": {},
          "execution_count": 12
        }
      ],
      "source": [
        "os.listdir()"
      ]
    },
    {
      "cell_type": "code",
      "execution_count": 13,
      "metadata": {
        "id": "rkmKqodHQgkI"
      },
      "outputs": [],
      "source": [
        "pdf_files = [file for file in os.listdir() if file.endswith('.pdf')]"
      ]
    },
    {
      "cell_type": "code",
      "execution_count": 14,
      "metadata": {
        "colab": {
          "base_uri": "https://localhost:8080/",
          "height": 36
        },
        "id": "2SsguruJQnRi",
        "outputId": "6dbf7d63-76bb-4d1b-9285-9a209332e2ea"
      },
      "outputs": [
        {
          "output_type": "execute_result",
          "data": {
            "text/plain": [
              "'Adani Enterprises_aug23.pdf'"
            ],
            "application/vnd.google.colaboratory.intrinsic+json": {
              "type": "string"
            }
          },
          "metadata": {},
          "execution_count": 14
        }
      ],
      "source": [
        "pdf_files[0]"
      ]
    },
    {
      "cell_type": "code",
      "execution_count": 15,
      "metadata": {
        "id": "FPR1quL5SUaQ"
      },
      "outputs": [],
      "source": [
        "from langchain.document_loaders import PyPDFLoader\n",
        "pdf_loader = PyPDFLoader(pdf_files[0])\n",
        "docs = pdf_loader.load()"
      ]
    },
    {
      "cell_type": "code",
      "execution_count": 16,
      "metadata": {
        "colab": {
          "base_uri": "https://localhost:8080/"
        },
        "id": "ZdlBJQa1S6P4",
        "outputId": "d54be891-e8bb-4574-956f-bc5bc24072d4"
      },
      "outputs": [
        {
          "output_type": "stream",
          "name": "stdout",
          "text": [
            "12\n",
            "        \n",
            " \n",
            "Adani Enterprises Limited   \n",
            "“Adani Corporate House”, \n",
            "Shantigram, Near Vaishno Devi Circle,  \n",
            "S. G. Highway, Khodiyar \n",
            "Ahmedabad 382 421 \n",
            "Gujarat, India Tel  + 91 79 2656 5555  \n",
            "Fax + 91 79 2555 5500 \n",
            "investor.ael@adani.com  \n",
            "www.adanienterprises.com \n",
            " \n",
            "CIN: L51100GJ1993PLC019067   \n",
            "  \n",
            "Registered Office : “Adani Corporate House”, Shantigram, Near Vaishno Devi Circle, S. G. Highwa y, Khodiyar, Ahmedabad - 382421 \n",
            " \n",
            "8th August, 2023  \n",
            " \n",
            "BSE Limited  \n",
            "P J Towers, \n",
            "Dalal Street, \n",
            "Mumbai \n",
            "{'source': 'Adani Enterprises_aug23.pdf', 'page': 0}\n"
          ]
        }
      ],
      "source": [
        "pages = docs[0]\n",
        "print(len(docs))\n",
        "print(pages.page_content[0:500])\n",
        "\n",
        "print(pages.metadata)"
      ]
    },
    {
      "cell_type": "code",
      "execution_count": 17,
      "metadata": {
        "id": "npEfFS47W0sA"
      },
      "outputs": [],
      "source": [
        "from langchain.text_splitter import RecursiveCharacterTextSplitter, CharacterTextSplitter\n",
        "\n",
        "chunk_size =26\n",
        "chunk_overlap = 4\n",
        "\n",
        "r_splitter = RecursiveCharacterTextSplitter(\n",
        "    chunk_size=chunk_size,\n",
        "    chunk_overlap=chunk_overlap\n",
        ")\n",
        "c_splitter = CharacterTextSplitter(\n",
        "    chunk_size=chunk_size,\n",
        "    chunk_overlap=chunk_overlap\n",
        ")"
      ]
    },
    {
      "cell_type": "markdown",
      "source": [],
      "metadata": {
        "id": "8fBmnM1IXbmg"
      }
    },
    {
      "cell_type": "code",
      "source": [
        "# Recursive text Splitter\n",
        "text1 = 'abcdefghijklmnopqrstuvwxyz'\n",
        "text2 = 'abcdefghijklmnopqrstuvwxyzabcdefg'\n",
        "text3 = \"a b c d e f g h i j k l m n o p q r s t u v w x y z\"\n",
        "print(r_splitter.split_text(text1))\n",
        "\n",
        "print(r_splitter.split_text(text2))\n",
        "\n",
        "print(r_splitter.split_text(text3))\n",
        "\n",
        "\n",
        "# Character Text Splitter\n",
        "print(c_splitter.split_text(text1))\n",
        "\n",
        "print(c_splitter.split_text(text2))\n",
        "\n",
        "print(c_splitter.split_text(text3))\n",
        "\n",
        "\n",
        "# Character Text Splitter with separator defined\n",
        "c_splitter = CharacterTextSplitter(\n",
        "    chunk_size=chunk_size,\n",
        "    chunk_overlap=chunk_overlap,\n",
        "    separator = ' '\n",
        ")\n",
        "\n",
        "print(c_splitter.split_text(text3))\n"
      ],
      "metadata": {
        "id": "HalUDc3MB10x",
        "colab": {
          "base_uri": "https://localhost:8080/"
        },
        "outputId": "6ea9dfe7-36ef-41d5-8885-ce144a2d9cbe"
      },
      "execution_count": 18,
      "outputs": [
        {
          "output_type": "stream",
          "name": "stdout",
          "text": [
            "['abcdefghijklmnopqrstuvwxyz']\n",
            "['abcdefghijklmnopqrstuvwxyz', 'wxyzabcdefg']\n",
            "['a b c d e f g h i j k l m', 'l m n o p q r s t u v w x', 'w x y z']\n",
            "['abcdefghijklmnopqrstuvwxyz']\n",
            "['abcdefghijklmnopqrstuvwxyzabcdefg']\n",
            "['a b c d e f g h i j k l m n o p q r s t u v w x y z']\n",
            "['a b c d e f g h i j k l m', 'l m n o p q r s t u v w x', 'w x y z']\n"
          ]
        }
      ]
    },
    {
      "cell_type": "code",
      "source": [
        "some_text = \"\"\"When writing documents, writers will use document structure to group content. \\\n",
        "This can convey to the reader, which idea's are related. For example, closely related ideas \\\n",
        "are in sentances. Similar ideas are in paragraphs. Paragraphs form a document. \\n\\n  \\\n",
        "Paragraphs are often delimited with a carriage return or two carriage returns. \\\n",
        "Carriage returns are the \"backslash n\" you see embedded in this string. \\\n",
        "Sentences have a period at the end, but also, have a space.\\\n",
        "and words are separated by space.\"\"\"\n",
        "\n",
        "print(len(some_text))\n",
        "\n",
        "c_splitter = CharacterTextSplitter(\n",
        "    chunk_size=450,\n",
        "    chunk_overlap=0,\n",
        "    separator = ' '\n",
        ")\n",
        "r_splitter = RecursiveCharacterTextSplitter(\n",
        "    chunk_size=450,\n",
        "    chunk_overlap=0,\n",
        "    separators=[\"\\n\\n\", \"\\n\", \" \", \"\"]\n",
        ")"
      ],
      "metadata": {
        "id": "J92wUF9k9g1F",
        "colab": {
          "base_uri": "https://localhost:8080/"
        },
        "outputId": "bbc0361b-a6bc-4567-f70c-c25364d5a344"
      },
      "execution_count": 19,
      "outputs": [
        {
          "output_type": "stream",
          "name": "stdout",
          "text": [
            "496\n"
          ]
        }
      ]
    },
    {
      "cell_type": "code",
      "source": [
        "print(r_splitter.split_text(some_text))"
      ],
      "metadata": {
        "colab": {
          "base_uri": "https://localhost:8080/"
        },
        "id": "PIPltu6r-06h",
        "outputId": "7548e20b-3daa-4175-842e-db1f39580702"
      },
      "execution_count": 20,
      "outputs": [
        {
          "output_type": "stream",
          "name": "stdout",
          "text": [
            "[\"When writing documents, writers will use document structure to group content. This can convey to the reader, which idea's are related. For example, closely related ideas are in sentances. Similar ideas are in paragraphs. Paragraphs form a document.\", 'Paragraphs are often delimited with a carriage return or two carriage returns. Carriage returns are the \"backslash n\" you see embedded in this string. Sentences have a period at the end, but also, have a space.and words are separated by space.']\n"
          ]
        }
      ]
    },
    {
      "cell_type": "code",
      "source": [
        "print(c_splitter.split_text(some_text))"
      ],
      "metadata": {
        "colab": {
          "base_uri": "https://localhost:8080/"
        },
        "id": "Av9HqSPs_ENj",
        "outputId": "ae61b5e7-a041-45b6-8fa9-f5f503571c0c"
      },
      "execution_count": 21,
      "outputs": [
        {
          "output_type": "stream",
          "name": "stdout",
          "text": [
            "['When writing documents, writers will use document structure to group content. This can convey to the reader, which idea\\'s are related. For example, closely related ideas are in sentances. Similar ideas are in paragraphs. Paragraphs form a document. \\n\\n Paragraphs are often delimited with a carriage return or two carriage returns. Carriage returns are the \"backslash n\" you see embedded in this string. Sentences have a period at the end, but also,', 'have a space.and words are separated by space.']\n"
          ]
        }
      ]
    },
    {
      "cell_type": "code",
      "source": [
        "from langchain.text_splitter import CharacterTextSplitter\n",
        "text_splitter = CharacterTextSplitter(\n",
        "    separator=\"\\n\",\n",
        "    chunk_size=1000,\n",
        "    chunk_overlap=150,\n",
        "    length_function=len\n",
        ")\n",
        "\n",
        "chunks = text_splitter.split_documents(docs)\n",
        "\n",
        "print(len(docs))\n",
        "print(len(chunks))"
      ],
      "metadata": {
        "colab": {
          "base_uri": "https://localhost:8080/"
        },
        "id": "ANjHAVla_G7T",
        "outputId": "c0b3ccfc-dd73-4666-faa5-6a9dc983cf07"
      },
      "execution_count": 22,
      "outputs": [
        {
          "output_type": "stream",
          "name": "stdout",
          "text": [
            "12\n",
            "43\n"
          ]
        }
      ]
    },
    {
      "cell_type": "code",
      "source": [
        "text_splitter = RecursiveCharacterTextSplitter(\n",
        "    chunk_size=1000,\n",
        "    chunk_overlap=150,\n",
        "    length_function = len,\n",
        "    )\n",
        "\n",
        "chunks1 = text_splitter.split_documents(docs)\n",
        "print(len(docs))\n",
        "print(len(chunks1))"
      ],
      "metadata": {
        "colab": {
          "base_uri": "https://localhost:8080/"
        },
        "id": "fU2VRFSP_kW-",
        "outputId": "4318dc2f-652c-4667-fca6-5abc591bdd76"
      },
      "execution_count": 23,
      "outputs": [
        {
          "output_type": "stream",
          "name": "stdout",
          "text": [
            "12\n",
            "43\n"
          ]
        }
      ]
    },
    {
      "cell_type": "code",
      "source": [
        "!pip install transformers -q\n",
        "from transformers import AutoTokenizer"
      ],
      "metadata": {
        "id": "O-Y3-Y5dAEDB"
      },
      "execution_count": 24,
      "outputs": []
    },
    {
      "cell_type": "code",
      "source": [
        "\n",
        "tokenizer = AutoTokenizer.from_pretrained('intfloat/e5-large-v2')\n",
        "\n",
        "text_splitter = RecursiveCharacterTextSplitter.from_huggingface_tokenizer(\n",
        "  tokenizer,\n",
        "  chunk_size=1000,\n",
        "  chunk_overlap=150,\n",
        ")\n",
        "\n",
        "\n",
        "chunks2 = text_splitter.split_documents(docs)\n",
        "print(len(docs))\n",
        "print(len(chunks2))"
      ],
      "metadata": {
        "colab": {
          "base_uri": "https://localhost:8080/"
        },
        "id": "BiTEsZSlArHW",
        "outputId": "1e33c30d-636d-4a5e-af90-1ca58d93e5ec"
      },
      "execution_count": 25,
      "outputs": [
        {
          "output_type": "stream",
          "name": "stdout",
          "text": [
            "12\n",
            "12\n"
          ]
        }
      ]
    },
    {
      "cell_type": "code",
      "source": [
        "from langchain.document_loaders import PyPDFLoader\n",
        "\n",
        "# Load PDF\n",
        "loaders = [\n",
        "    # Duplicate documents on purpose - messy data\n",
        "    PyPDFLoader(pdf_files[0]),\n",
        "    PyPDFLoader(pdf_files[0]),\n",
        "    PyPDFLoader(pdf_files[1]),\n",
        "    PyPDFLoader(pdf_files[2])\n",
        "]\n",
        "docs = []\n",
        "for loader in loaders:\n",
        "    docs.extend(loader.load())"
      ],
      "metadata": {
        "id": "u0d6j1etBMkD"
      },
      "execution_count": 26,
      "outputs": []
    },
    {
      "cell_type": "code",
      "source": [
        "text_splitter = RecursiveCharacterTextSplitter(\n",
        "    chunk_size=1500,\n",
        "    chunk_overlap=150,\n",
        "    length_function = len,\n",
        ")\n",
        "\n",
        "#Create a split of the document using the text splitter\n",
        "splits = text_splitter.split_documents(docs)"
      ],
      "metadata": {
        "id": "0blnbvG2B_yZ"
      },
      "execution_count": 27,
      "outputs": []
    },
    {
      "cell_type": "code",
      "source": [
        "from langchain.embeddings import HuggingFaceEmbeddings\n",
        "from langchain.embeddings import VertexAIEmbeddings\n",
        "from langchain.vectorstores import Chroma"
      ],
      "metadata": {
        "id": "dRTTBzmPCML9"
      },
      "execution_count": 28,
      "outputs": []
    },
    {
      "cell_type": "code",
      "source": [
        "embeddings1 = HuggingFaceEmbeddings(model_name=\"sentence-transformers/all-MiniLM-L6-v2\",\n",
        "                                        model_kwargs={'device': 'cpu'})\n",
        "embeddings2 = HuggingFaceEmbeddings(model_name=\"intfloat/e5-large-v2\",\n",
        "                                    model_kwargs={'device': 'cpu'})"
      ],
      "metadata": {
        "id": "kSXxYPK0CV3P"
      },
      "execution_count": 29,
      "outputs": []
    },
    {
      "cell_type": "code",
      "source": [
        "persist_directory = 'vector_db'\n",
        "\n",
        "# Create the vector store\n",
        "vectordb = Chroma.from_documents(\n",
        "    documents=splits,\n",
        "    embedding=embeddings1,\n",
        "    persist_directory=persist_directory\n",
        ")\n",
        "\n",
        "print(vectordb._collection.count())"
      ],
      "metadata": {
        "colab": {
          "base_uri": "https://localhost:8080/"
        },
        "id": "Me02DdsyCisC",
        "outputId": "a9d3192b-e565-423a-9790-b3784df76845"
      },
      "execution_count": 30,
      "outputs": [
        {
          "output_type": "stream",
          "name": "stdout",
          "text": [
            "226\n"
          ]
        }
      ]
    },
    {
      "cell_type": "code",
      "source": [
        "question = \"Is there any question management try to avoid\"\n",
        "\n",
        "docs = vectordb.similarity_search(question,k=3)\n",
        "\n",
        "# Check the length of the document\n",
        "len(docs)\n",
        "\n",
        "# Check the content of the first document\n",
        "docs[0].page_content\n",
        "\n",
        "# Persist the database to use it later\n",
        "vectordb.persist()"
      ],
      "metadata": {
        "id": "topW7UTGDNOV"
      },
      "execution_count": 31,
      "outputs": []
    },
    {
      "cell_type": "code",
      "source": [
        "question = \"How much is Adani Enterprises Limited current CAPEX\"\n",
        "\n",
        "# Similarity search with k = 5\n",
        "docs = vectordb.similarity_search(question,k=5)\n",
        "\n",
        "# Check for first two results\n",
        "print(docs[0])\n",
        "print(docs[1])"
      ],
      "metadata": {
        "colab": {
          "base_uri": "https://localhost:8080/"
        },
        "id": "E963ta0RDjrl",
        "outputId": "c7bb6d86-0488-4104-b484-e78906a3d8d2"
      },
      "execution_count": 32,
      "outputs": [
        {
          "output_type": "stream",
          "name": "stdout",
          "text": [
            "page_content='Adani Enterprises Limited  \\nAugust 03 , 2023 \\n \\n Page 6 of 11 \\nairport side , we will have capex this year just about US $ 1.1 billion , all of this just to clarify we \\nare assuming  Rs.80 to a dollar rate , adjust for that , so about US $1.1 billion this year would be \\nthe CAPEX on airport. It will broadly remain in that range for the next  year then there will be \\ndecline , once we complete the first phase  of our development plan in airports . \\nModerator : Thank you. The next question is from the line of Nikhil Abhyankar from ICICI Securities. Please \\ngo ahead.  \\nNikhil Abhyankar : Congrats on a good set of numbers . What is the guidance for commercial mining this year?  And \\nthe reason for asking the question is  our production has fallen like 10% Y-o-Y, so what is the \\nexact reason for the same?  \\nVinay Prakash : As for your first question  about the commercial mines, we are hopeful of starting the open  cut \\nin Dhirauli mine which is the commercial mine  in this financial year . We have already got the  \\nEC permission , we are hopeful to get both FC Stage -1 and Stage -2 and as soon as we get  stage \\n2, we should be in position to  do the box cut in Dhirauli mine . All other mines , Bijahan or \\nGondkhari or Gondulpara  would take some time because out of seven  mines,  four are \\nunderg round  mines, so they will take some time  to go for the preparation. We have to prepare' metadata={'page': 6, 'source': 'Adani Enterprises_aug23.pdf'}\n",
            "page_content='Adani Enterprises Limited  \\nAugust 03 , 2023 \\n \\n Page 6 of 11 \\nairport side , we will have capex this year just about US $ 1.1 billion , all of this just to clarify we \\nare assuming  Rs.80 to a dollar rate , adjust for that , so about US $1.1 billion this year would be \\nthe CAPEX on airport. It will broadly remain in that range for the next  year then there will be \\ndecline , once we complete the first phase  of our development plan in airports . \\nModerator : Thank you. The next question is from the line of Nikhil Abhyankar from ICICI Securities. Please \\ngo ahead.  \\nNikhil Abhyankar : Congrats on a good set of numbers . What is the guidance for commercial mining this year?  And \\nthe reason for asking the question is  our production has fallen like 10% Y-o-Y, so what is the \\nexact reason for the same?  \\nVinay Prakash : As for your first question  about the commercial mines, we are hopeful of starting the open  cut \\nin Dhirauli mine which is the commercial mine  in this financial year . We have already got the  \\nEC permission , we are hopeful to get both FC Stage -1 and Stage -2 and as soon as we get  stage \\n2, we should be in position to  do the box cut in Dhirauli mine . All other mines , Bijahan or \\nGondkhari or Gondulpara  would take some time because out of seven  mines,  four are \\nunderg round  mines, so they will take some time  to go for the preparation. We have to prepare' metadata={'page': 6, 'source': 'Adani Enterprises_aug23.pdf'}\n"
          ]
        }
      ]
    },
    {
      "cell_type": "code",
      "source": [
        "question = \"What is the overall CAPEX plan for the company in FY24\"\n",
        "\n",
        "docs = vectordb.similarity_search(question,k=5)\n",
        "\n",
        "\n",
        "# Print the metadata of the similarity search result\n",
        "for doc in docs:\n",
        "    print(doc.metadata)\n",
        "\n",
        "print(docs[4].page_content)"
      ],
      "metadata": {
        "colab": {
          "base_uri": "https://localhost:8080/"
        },
        "id": "wASthvaxD2b2",
        "outputId": "bcffe523-ad9e-4ac9-c3b5-a2df84863956"
      },
      "execution_count": 33,
      "outputs": [
        {
          "output_type": "stream",
          "name": "stdout",
          "text": [
            "{'page': 7, 'source': 'Adani Enterprises_aug23.pdf'}\n",
            "{'page': 7, 'source': 'Adani Enterprises_aug23.pdf'}\n",
            "{'page': 7, 'source': 'Adani Enterprises_aug23.pdf'}\n",
            "{'page': 7, 'source': 'Adani Enterprises_aug23.pdf'}\n",
            "{'page': 5, 'source': 'Adani Enterprises_Feb23.pdf'}\n",
            "that ti me, we will come out with the exact numbers also.  \n",
            "Dhananjay Mishra:  And we have not considered debt of New Bombay airport in this?  \n",
            "Saurabh Shah : So whatever disbursement have been taken are all included, sir..  \n",
            "Moderator:   The next question is from the line  of Bajrang Bafna from Sunidhi Securities.  \n",
            "Bajrang Bafna:  And we genuinely stand by these difficult times, which we are facing due to some unforeseen  \n",
            "circumstances. So sir, for the benefit of all of us, there is one thing that is in all of our minds that \n",
            "how we are going to fund the ongoing capex or the ongoing different projects that we are doing \n",
            "maybe for FY '23 and FY '24, which has already been announced. So if you could in a nutshell, \n",
            "can define that this is what the investment requirement across diffe rent portfolios for the coming \n",
            "12 months.   \n",
            "Robbie Singh : Sure. I think firstly, thank you for the support, and we are really encouraged by the support from \n",
            "our core investor and banking community. In relation to the total number, I think what we will \n",
            "be and because of this volatility, we don't want to give out each time we speak a number. Over \n",
            "the next six weeks, we'll come up with a formal plan, which will be a part of the March 31 \n",
            "results. All I can say to you today, as we stand today is, new commitments,  we ourselves will \n",
            "not make. Our existing projects are fully funded and continuing. So to say Navi Mumbai airport, \n",
            "roads, data center, etc, they are continuing as scheduled.\n"
          ]
        }
      ]
    },
    {
      "cell_type": "code",
      "source": [
        "texts = [\n",
        "    \"\"\"The Amanita phalloides has a large and imposing epigeous (aboveground) fruiting body (basidiocarp).\"\"\",\n",
        "    \"\"\"A mushroom with a large fruiting body is the Amanita phalloides. Some varieties are all-white.\"\"\",\n",
        "    \"\"\"A. phalloides, a.k.a Death Cap, is one of the most poisonous of all known mushrooms.\"\"\",\n",
        "]\n",
        "\n",
        "smalldb = Chroma.from_texts(texts, embedding=embeddings1)\n",
        "question = \"Tell me about all-white mushrooms with large fruiting bodies\"\n",
        "smalldb.max_marginal_relevance_search(question,k=2, fetch_k=3)"
      ],
      "metadata": {
        "colab": {
          "base_uri": "https://localhost:8080/"
        },
        "id": "eYUlcmA_EP2g",
        "outputId": "3e80471e-03ae-47e5-975a-46becb246103"
      },
      "execution_count": 34,
      "outputs": [
        {
          "output_type": "execute_result",
          "data": {
            "text/plain": [
              "[Document(page_content='A mushroom with a large fruiting body is the Amanita phalloides. Some varieties are all-white.'),\n",
              " Document(page_content='A. phalloides, a.k.a Death Cap, is one of the most poisonous of all known mushrooms.')]"
            ]
          },
          "metadata": {},
          "execution_count": 34
        }
      ]
    },
    {
      "cell_type": "code",
      "source": [
        "# Compare the result of similarity searcha nd MMR search\n",
        "question = \"what did they say about matlab?\"\n",
        "docs_ss = vectordb.similarity_search(question,k=3)\n",
        "print(docs_ss[0].page_content[:100])\n",
        "print(docs_ss[1].page_content[:100])\n",
        "\n",
        "docs_mmr = vectordb.max_marginal_relevance_search(question,k=3)\n",
        "print(docs_mmr[0].page_content[:100])\n",
        "print(docs_mmr[1].page_content[:100])"
      ],
      "metadata": {
        "colab": {
          "base_uri": "https://localhost:8080/"
        },
        "id": "wG77DJGwEw_N",
        "outputId": "c089b394-792a-4a48-a57c-4dd08e0a1592"
      },
      "execution_count": 35,
      "outputs": [
        {
          "output_type": "stream",
          "name": "stdout",
          "text": [
            "facility is to control the input cost of green hydrogen, and that's where our focus remains, is to \n",
            "\n",
            "facility is to control the input cost of green hydrogen, and that's where our focus remains, is to \n",
            "\n",
            "facility is to control the input cost of green hydrogen, and that's where our focus remains, is to \n",
            "\n",
            "incubating businesses and our continuing businesses.  \n",
            "Nikhil Abhyanka r: Understood. And, sir, anyt\n"
          ]
        }
      ]
    },
    {
      "cell_type": "code",
      "source": [
        "question = \"Are there any plans to accelerate CAPEX in Adani Enterprise\"\n",
        "\n",
        "docs = vectordb.similarity_search(\n",
        "    question,\n",
        "    k=3,\n",
        "    filter={\"source\":pdf_files[0]}\n",
        ")\n",
        "\n",
        "# Print metadata of the document retrieved\n",
        "for d in docs:\n",
        "    print(d.metadata)"
      ],
      "metadata": {
        "colab": {
          "base_uri": "https://localhost:8080/"
        },
        "id": "5jBSyIr4FGzZ",
        "outputId": "d3fae93a-551e-4543-c465-bff16c4fcdad"
      },
      "execution_count": 36,
      "outputs": [
        {
          "output_type": "stream",
          "name": "stdout",
          "text": [
            "{'page': 7, 'source': 'Adani Enterprises_aug23.pdf'}\n",
            "{'page': 7, 'source': 'Adani Enterprises_aug23.pdf'}\n",
            "{'page': 7, 'source': 'Adani Enterprises_aug23.pdf'}\n"
          ]
        }
      ]
    },
    {
      "cell_type": "code",
      "source": [
        "from langchain import HuggingFacePipeline\n",
        "\n",
        "llm = HuggingFacePipeline.from_model_id(\n",
        "    model_id=\"bigscience/bloomz-1b7\",\n",
        "    task=\"text-generation\",\n",
        "    model_kwargs={\"temperature\" : 0, \"max_length\" : 1000})"
      ],
      "metadata": {
        "colab": {
          "base_uri": "https://localhost:8080/"
        },
        "id": "uWWI2ijcFeEh",
        "outputId": "2b235c1f-4b92-46f0-d4f0-5ba9c88b863a"
      },
      "execution_count": 37,
      "outputs": [
        {
          "output_type": "stream",
          "name": "stderr",
          "text": [
            "/usr/local/lib/python3.10/dist-packages/transformers/generation/configuration_utils.py:362: UserWarning: `do_sample` is set to `False`. However, `temperature` is set to `0` -- this flag is only used in sample-based generation modes. You should set `do_sample=True` or unset `temperature`. This was detected when initializing the generation config instance, which means the corresponding file may hold incorrect parameterization and should be fixed.\n",
            "  warnings.warn(\n"
          ]
        }
      ]
    },
    {
      "cell_type": "code",
      "source": [
        "doc_retriever = vectordb.as_retriever(search_type=\"mmr\", search_kwargs={'fetch_k': 3})"
      ],
      "metadata": {
        "id": "KMBpjPQDGBPd"
      },
      "execution_count": 38,
      "outputs": []
    },
    {
      "cell_type": "code",
      "source": [
        "from langchain.chains import RetrievalQA\n",
        "\n",
        "earnings_qa = RetrievalQA.from_chain_type(llm=llm,\n",
        "                                          chain_type=\"stuff\",\n",
        "                                          retriever=doc_retriever)"
      ],
      "metadata": {
        "id": "Q08C-vc6GGNi"
      },
      "execution_count": 39,
      "outputs": []
    },
    {
      "cell_type": "code",
      "source": [
        "earnings_qa.run(\"How much is the company's capital expenditure?\")"
      ],
      "metadata": {
        "colab": {
          "base_uri": "https://localhost:8080/",
          "height": 90
        },
        "id": "MUFjN0QFGK-k",
        "outputId": "ff6ac7b3-fefa-4a2d-dc01-f1eeacca8f15"
      },
      "execution_count": 40,
      "outputs": [
        {
          "output_type": "stream",
          "name": "stderr",
          "text": [
            "/usr/local/lib/python3.10/dist-packages/transformers/generation/configuration_utils.py:362: UserWarning: `do_sample` is set to `False`. However, `temperature` is set to `0` -- this flag is only used in sample-based generation modes. You should set `do_sample=True` or unset `temperature`.\n",
            "  warnings.warn(\n"
          ]
        },
        {
          "output_type": "execute_result",
          "data": {
            "text/plain": [
              "' not enough information'"
            ],
            "application/vnd.google.colaboratory.intrinsic+json": {
              "type": "string"
            }
          },
          "metadata": {},
          "execution_count": 40
        }
      ]
    },
    {
      "cell_type": "code",
      "source": [
        "earnings_qa.run(\"explain in detail how the USD 3.7 billion CAPEX plan for this year will be allocated across different segments.\")"
      ],
      "metadata": {
        "colab": {
          "base_uri": "https://localhost:8080/",
          "height": 90
        },
        "id": "zoTGzF3iNkL4",
        "outputId": "18dd4c6b-a716-4d08-b803-163dd2d81aa2"
      },
      "execution_count": 41,
      "outputs": [
        {
          "output_type": "stream",
          "name": "stderr",
          "text": [
            "/usr/local/lib/python3.10/dist-packages/transformers/generation/utils.py:1268: UserWarning: Input length of input_ids is 1054, but `max_length` is set to 1000. This can lead to unexpected behavior. You should consider increasing `max_new_tokens`.\n",
            "  warnings.warn(\n"
          ]
        },
        {
          "output_type": "execute_result",
          "data": {
            "text/plain": [
              "' Robbie'"
            ],
            "application/vnd.google.colaboratory.intrinsic+json": {
              "type": "string"
            }
          },
          "metadata": {},
          "execution_count": 41
        }
      ]
    },
    {
      "cell_type": "code",
      "source": [],
      "metadata": {
        "id": "tS9gF3sKZRG3"
      },
      "execution_count": null,
      "outputs": []
    }
  ],
  "metadata": {
    "colab": {
      "provenance": []
    },
    "kernelspec": {
      "display_name": "Python 3",
      "name": "python3"
    },
    "language_info": {
      "name": "python"
    }
  },
  "nbformat": 4,
  "nbformat_minor": 0
}